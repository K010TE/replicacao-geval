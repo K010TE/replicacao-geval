{
 "cells": [
  {
   "cell_type": "markdown",
   "metadata": {},
   "source": [
    "## Instalar as dependências"
   ]
  },
  {
   "cell_type": "code",
   "execution_count": 1,
   "metadata": {},
   "outputs": [
    {
     "name": "stdout",
     "output_type": "stream",
     "text": [
      "Requirement already satisfied: python-dotenv in c:\\users\\itagi\\appdata\\local\\packages\\pythonsoftwarefoundation.python.3.11_qbz5n2kfra8p0\\localcache\\local-packages\\python311\\site-packages (1.1.0)\n"
     ]
    },
    {
     "name": "stderr",
     "output_type": "stream",
     "text": [
      "\n",
      "[notice] A new release of pip is available: 24.0 -> 25.1.1\n",
      "[notice] To update, run: C:\\Users\\itagi\\AppData\\Local\\Microsoft\\WindowsApps\\PythonSoftwareFoundation.Python.3.11_qbz5n2kfra8p0\\python.exe -m pip install --upgrade pip\n"
     ]
    }
   ],
   "source": [
    "!pip install python-dotenv"
   ]
  },
  {
   "cell_type": "code",
   "execution_count": null,
   "metadata": {},
   "outputs": [
    {
     "name": "stdout",
     "output_type": "stream",
     "text": [
      "Requirement already satisfied: openai in c:\\users\\itagi\\appdata\\local\\packages\\pythonsoftwarefoundation.python.3.11_qbz5n2kfra8p0\\localcache\\local-packages\\python311\\site-packages (1.90.0)\n",
      "Requirement already satisfied: pandas in c:\\users\\itagi\\appdata\\local\\packages\\pythonsoftwarefoundation.python.3.11_qbz5n2kfra8p0\\localcache\\local-packages\\python311\\site-packages (2.2.3)\n",
      "Requirement already satisfied: scikit-learn in c:\\users\\itagi\\appdata\\local\\packages\\pythonsoftwarefoundation.python.3.11_qbz5n2kfra8p0\\localcache\\local-packages\\python311\\site-packages (1.7.0)\n",
      "Requirement already satisfied: tqdm in c:\\users\\itagi\\appdata\\local\\packages\\pythonsoftwarefoundation.python.3.11_qbz5n2kfra8p0\\localcache\\local-packages\\python311\\site-packages (4.67.1)\n",
      "Requirement already satisfied: anyio<5,>=3.5.0 in c:\\users\\itagi\\appdata\\local\\packages\\pythonsoftwarefoundation.python.3.11_qbz5n2kfra8p0\\localcache\\local-packages\\python311\\site-packages (from openai) (4.9.0)\n",
      "Requirement already satisfied: distro<2,>=1.7.0 in c:\\users\\itagi\\appdata\\local\\packages\\pythonsoftwarefoundation.python.3.11_qbz5n2kfra8p0\\localcache\\local-packages\\python311\\site-packages (from openai) (1.9.0)\n",
      "Requirement already satisfied: httpx<1,>=0.23.0 in c:\\users\\itagi\\appdata\\local\\packages\\pythonsoftwarefoundation.python.3.11_qbz5n2kfra8p0\\localcache\\local-packages\\python311\\site-packages (from openai) (0.28.1)\n",
      "Requirement already satisfied: jiter<1,>=0.4.0 in c:\\users\\itagi\\appdata\\local\\packages\\pythonsoftwarefoundation.python.3.11_qbz5n2kfra8p0\\localcache\\local-packages\\python311\\site-packages (from openai) (0.10.0)\n",
      "Requirement already satisfied: pydantic<3,>=1.9.0 in c:\\users\\itagi\\appdata\\local\\packages\\pythonsoftwarefoundation.python.3.11_qbz5n2kfra8p0\\localcache\\local-packages\\python311\\site-packages (from openai) (2.11.7)\n",
      "Requirement already satisfied: sniffio in c:\\users\\itagi\\appdata\\local\\packages\\pythonsoftwarefoundation.python.3.11_qbz5n2kfra8p0\\localcache\\local-packages\\python311\\site-packages (from openai) (1.3.1)\n",
      "Requirement already satisfied: typing-extensions<5,>=4.11 in c:\\users\\itagi\\appdata\\local\\packages\\pythonsoftwarefoundation.python.3.11_qbz5n2kfra8p0\\localcache\\local-packages\\python311\\site-packages (from openai) (4.13.0)\n",
      "Requirement already satisfied: numpy>=1.23.2 in c:\\users\\itagi\\appdata\\local\\packages\\pythonsoftwarefoundation.python.3.11_qbz5n2kfra8p0\\localcache\\local-packages\\python311\\site-packages (from pandas) (2.2.4)\n",
      "Requirement already satisfied: python-dateutil>=2.8.2 in c:\\users\\itagi\\appdata\\local\\packages\\pythonsoftwarefoundation.python.3.11_qbz5n2kfra8p0\\localcache\\local-packages\\python311\\site-packages (from pandas) (2.9.0.post0)\n",
      "Requirement already satisfied: pytz>=2020.1 in c:\\users\\itagi\\appdata\\local\\packages\\pythonsoftwarefoundation.python.3.11_qbz5n2kfra8p0\\localcache\\local-packages\\python311\\site-packages (from pandas) (2025.2)\n",
      "Requirement already satisfied: tzdata>=2022.7 in c:\\users\\itagi\\appdata\\local\\packages\\pythonsoftwarefoundation.python.3.11_qbz5n2kfra8p0\\localcache\\local-packages\\python311\\site-packages (from pandas) (2025.2)\n",
      "Requirement already satisfied: scipy>=1.8.0 in c:\\users\\itagi\\appdata\\local\\packages\\pythonsoftwarefoundation.python.3.11_qbz5n2kfra8p0\\localcache\\local-packages\\python311\\site-packages (from scikit-learn) (1.16.0)\n",
      "Requirement already satisfied: joblib>=1.2.0 in c:\\users\\itagi\\appdata\\local\\packages\\pythonsoftwarefoundation.python.3.11_qbz5n2kfra8p0\\localcache\\local-packages\\python311\\site-packages (from scikit-learn) (1.5.1)\n",
      "Requirement already satisfied: threadpoolctl>=3.1.0 in c:\\users\\itagi\\appdata\\local\\packages\\pythonsoftwarefoundation.python.3.11_qbz5n2kfra8p0\\localcache\\local-packages\\python311\\site-packages (from scikit-learn) (3.6.0)\n",
      "Requirement already satisfied: colorama in c:\\users\\itagi\\appdata\\local\\packages\\pythonsoftwarefoundation.python.3.11_qbz5n2kfra8p0\\localcache\\local-packages\\python311\\site-packages (from tqdm) (0.4.6)\n",
      "Requirement already satisfied: idna>=2.8 in c:\\users\\itagi\\appdata\\local\\packages\\pythonsoftwarefoundation.python.3.11_qbz5n2kfra8p0\\localcache\\local-packages\\python311\\site-packages (from anyio<5,>=3.5.0->openai) (3.10)\n",
      "Requirement already satisfied: certifi in c:\\users\\itagi\\appdata\\local\\packages\\pythonsoftwarefoundation.python.3.11_qbz5n2kfra8p0\\localcache\\local-packages\\python311\\site-packages (from httpx<1,>=0.23.0->openai) (2025.1.31)\n",
      "Requirement already satisfied: httpcore==1.* in c:\\users\\itagi\\appdata\\local\\packages\\pythonsoftwarefoundation.python.3.11_qbz5n2kfra8p0\\localcache\\local-packages\\python311\\site-packages (from httpx<1,>=0.23.0->openai) (1.0.7)\n",
      "Requirement already satisfied: h11<0.15,>=0.13 in c:\\users\\itagi\\appdata\\local\\packages\\pythonsoftwarefoundation.python.3.11_qbz5n2kfra8p0\\localcache\\local-packages\\python311\\site-packages (from httpcore==1.*->httpx<1,>=0.23.0->openai) (0.14.0)\n",
      "Requirement already satisfied: annotated-types>=0.6.0 in c:\\users\\itagi\\appdata\\local\\packages\\pythonsoftwarefoundation.python.3.11_qbz5n2kfra8p0\\localcache\\local-packages\\python311\\site-packages (from pydantic<3,>=1.9.0->openai) (0.7.0)\n",
      "Requirement already satisfied: pydantic-core==2.33.2 in c:\\users\\itagi\\appdata\\local\\packages\\pythonsoftwarefoundation.python.3.11_qbz5n2kfra8p0\\localcache\\local-packages\\python311\\site-packages (from pydantic<3,>=1.9.0->openai) (2.33.2)\n",
      "Requirement already satisfied: typing-inspection>=0.4.0 in c:\\users\\itagi\\appdata\\local\\packages\\pythonsoftwarefoundation.python.3.11_qbz5n2kfra8p0\\localcache\\local-packages\\python311\\site-packages (from pydantic<3,>=1.9.0->openai) (0.4.1)\n",
      "Requirement already satisfied: six>=1.5 in c:\\users\\itagi\\appdata\\local\\packages\\pythonsoftwarefoundation.python.3.11_qbz5n2kfra8p0\\localcache\\local-packages\\python311\\site-packages (from python-dateutil>=2.8.2->pandas) (1.17.0)\n"
     ]
    },
    {
     "name": "stderr",
     "output_type": "stream",
     "text": [
      "\n",
      "[notice] A new release of pip is available: 24.0 -> 25.1.1\n",
      "[notice] To update, run: C:\\Users\\itagi\\AppData\\Local\\Microsoft\\WindowsApps\\PythonSoftwareFoundation.Python.3.11_qbz5n2kfra8p0\\python.exe -m pip install --upgrade pip\n"
     ]
    }
   ],
   "source": [
    "!pip install openai pandas scikit-learn tqdm\n",
    "!pip install scipy\n",
    "!pip install matplotlib"
   ]
  },
  {
   "cell_type": "markdown",
   "metadata": {},
   "source": [
    "## Buscando chave Open AI no arquivo .env"
   ]
  },
  {
   "cell_type": "code",
   "execution_count": 4,
   "metadata": {},
   "outputs": [
    {
     "name": "stdout",
     "output_type": "stream",
     "text": [
      "Chave carregada com sucesso!\n"
     ]
    }
   ],
   "source": [
    "import os\n",
    "from dotenv import load_dotenv\n",
    "\n",
    "load_dotenv()  # Carrega o .env\n",
    "\n",
    "api_key = os.getenv(\"OPENAI_API_KEY\")\n",
    "\n",
    "if api_key is None:\n",
    "    raise ValueError(\"A chave OPENAI_API_KEY não foi encontrada no .env!\")\n",
    "\n",
    "os.environ[\"OPENAI_API_KEY\"] = api_key\n",
    "print(\"Chave carregada com sucesso!\")\n"
   ]
  },
  {
   "cell_type": "markdown",
   "metadata": {},
   "source": [
    "## Adaptação e execução do G-EVAL"
   ]
  },
  {
   "cell_type": "code",
   "execution_count": 6,
   "metadata": {},
   "outputs": [],
   "source": [
    "import openai\n",
    "import json\n",
    "import pandas as pd\n",
    "from tqdm import tqdm\n",
    "\n",
    "openai.api_key = os.environ[\"OPENAI_API_KEY\"]\n",
    "\n",
    "def run_eval(example, prompt_template, model=\"gpt-4\", use_cot=True):\n",
    "    # Exemplo de prompt com CoT + form-filling\n",
    "    prompt = prompt_template.format(\n",
    "        article=example[\"document\"], \n",
    "        summary=example[\"summary\"]\n",
    "    )\n",
    "\n",
    "    response = openai.ChatCompletion.create(\n",
    "        model=model,\n",
    "        messages=[{\"role\": \"user\", \"content\": prompt}],\n",
    "        temperature=0,\n",
    "        max_tokens=100,\n",
    "        logprobs=True if use_cot else False,\n",
    "        n=1\n",
    "    )\n",
    "\n",
    "    # Extrair escore bruto da resposta\n",
    "    score = extract_score(response['choices'][0]['message']['content'])\n",
    "    return score\n"
   ]
  },
  {
   "cell_type": "markdown",
   "metadata": {},
   "source": [
    "## Avaliação Quantitativa: Correlação entre G-EVAL e Avaliações Humanas"
   ]
  },
  {
   "cell_type": "code",
   "execution_count": 8,
   "metadata": {},
   "outputs": [
    {
     "name": "stdout",
     "output_type": "stream",
     "text": [
      "✅ Resultados de Correlação G-EVAL vs Avaliação Humana (SummEval):\n"
     ]
    },
    {
     "data": {
      "text/html": [
       "<div>\n",
       "<style scoped>\n",
       "    .dataframe tbody tr th:only-of-type {\n",
       "        vertical-align: middle;\n",
       "    }\n",
       "\n",
       "    .dataframe tbody tr th {\n",
       "        vertical-align: top;\n",
       "    }\n",
       "\n",
       "    .dataframe thead th {\n",
       "        text-align: right;\n",
       "    }\n",
       "</style>\n",
       "<table border=\"1\" class=\"dataframe\">\n",
       "  <thead>\n",
       "    <tr style=\"text-align: right;\">\n",
       "      <th></th>\n",
       "      <th>Critério</th>\n",
       "      <th>Pearson (r)</th>\n",
       "      <th>Spearman (ρ)</th>\n",
       "      <th>Kendall-Tau (τ)</th>\n",
       "    </tr>\n",
       "  </thead>\n",
       "  <tbody>\n",
       "    <tr>\n",
       "      <th>0</th>\n",
       "      <td>Coherence</td>\n",
       "      <td>0.5851</td>\n",
       "      <td>0.5711</td>\n",
       "      <td>0.4626</td>\n",
       "    </tr>\n",
       "    <tr>\n",
       "      <th>1</th>\n",
       "      <td>Consistency</td>\n",
       "      <td>0.5913</td>\n",
       "      <td>0.4993</td>\n",
       "      <td>0.4183</td>\n",
       "    </tr>\n",
       "    <tr>\n",
       "      <th>2</th>\n",
       "      <td>Fluency</td>\n",
       "      <td>0.5924</td>\n",
       "      <td>0.5058</td>\n",
       "      <td>0.4554</td>\n",
       "    </tr>\n",
       "    <tr>\n",
       "      <th>3</th>\n",
       "      <td>Relevance</td>\n",
       "      <td>0.5882</td>\n",
       "      <td>0.5636</td>\n",
       "      <td>0.4529</td>\n",
       "    </tr>\n",
       "  </tbody>\n",
       "</table>\n",
       "</div>"
      ],
      "text/plain": [
       "      Critério  Pearson (r)  Spearman (ρ)  Kendall-Tau (τ)\n",
       "0    Coherence       0.5851        0.5711           0.4626\n",
       "1  Consistency       0.5913        0.4993           0.4183\n",
       "2      Fluency       0.5924        0.5058           0.4554\n",
       "3    Relevance       0.5882        0.5636           0.4529"
      ]
     },
     "metadata": {},
     "output_type": "display_data"
    }
   ],
   "source": [
    "import json\n",
    "import re\n",
    "import pandas as pd\n",
    "from scipy.stats import pearsonr, spearmanr, kendalltau\n",
    "\n",
    "# Função para extrair nota numérica do output do GPT\n",
    "def parse_output(output):\n",
    "    matched = re.search(r\"^\\s*([\\d\\.]+)\", output)\n",
    "    if matched:\n",
    "        try:\n",
    "            return float(matched.group(1))\n",
    "        except:\n",
    "            return 0.0\n",
    "    return 0.0\n",
    "\n",
    "# Função principal de correlação por critério\n",
    "def calculate_meta_eval(path, dimension):\n",
    "    with open(path, \"r\", encoding=\"utf-8\") as f:\n",
    "        data = json.load(f)\n",
    "\n",
    "    pred_scores = {}\n",
    "    human_scores = {}\n",
    "\n",
    "    for item in data:\n",
    "        doc_id = item[\"doc_id\"]\n",
    "        all_responses = item.get(\"all_responses\", [])\n",
    "        model_scores = [parse_output(x) for x in all_responses]\n",
    "        model_avg = sum(model_scores) / len(model_scores) if model_scores else 0\n",
    "\n",
    "        human_score = item.get(\"scores\", {}).get(dimension, None)\n",
    "        if human_score is None:\n",
    "            continue\n",
    "\n",
    "        pred_scores.setdefault(doc_id, []).append(model_avg)\n",
    "        human_scores.setdefault(doc_id, []).append(human_score)\n",
    "\n",
    "    results = {\"Pearson\": 0.0, \"Spearman\": 0.0, \"Kendall-Tau\": 0.0}\n",
    "    d_ctr = 0\n",
    "\n",
    "    for doc_id in pred_scores:\n",
    "        pred = pred_scores[doc_id]\n",
    "        hum = human_scores[doc_id]\n",
    "        if len(set(pred)) <= 1 or len(set(hum)) <= 1:\n",
    "            continue\n",
    "        results[\"Pearson\"] += pearsonr(pred, hum)[0]\n",
    "        results[\"Spearman\"] += spearmanr(pred, hum)[0]\n",
    "        results[\"Kendall-Tau\"] += kendalltau(pred, hum)[0]\n",
    "        d_ctr += 1\n",
    "\n",
    "    if d_ctr > 0:\n",
    "        for k in results:\n",
    "            results[k] = round(results[k] / d_ctr, 4)\n",
    "\n",
    "    return results\n",
    "\n",
    "# Caminhos relativos (ajuste se necessário)\n",
    "files = {\n",
    "    \"Coherence\": \"results/gpt4_coh_detailed.json\",\n",
    "    \"Consistency\": \"results/gpt4_con_detailed.json\",\n",
    "    \"Fluency\": \"results/gpt4_flu_detailed.json\",\n",
    "    \"Relevance\": \"results/gpt4_rel_detailed.json\"\n",
    "}\n",
    "\n",
    "# Executa correlação\n",
    "table_results = []\n",
    "for criterion, path in files.items():\n",
    "    res = calculate_meta_eval(path, criterion.lower())\n",
    "    table_results.append({\n",
    "        \"Critério\": criterion,\n",
    "        \"Pearson (r)\": res[\"Pearson\"],\n",
    "        \"Spearman (ρ)\": res[\"Spearman\"],\n",
    "        \"Kendall-Tau (τ)\": res[\"Kendall-Tau\"]\n",
    "    })\n",
    "\n",
    "# Mostra resultado em DataFrame\n",
    "df = pd.DataFrame(table_results)\n",
    "print(\"✅ Resultados de Correlação G-EVAL vs Avaliação Humana (SummEval):\")\n",
    "display(df)\n"
   ]
  },
  {
   "cell_type": "markdown",
   "metadata": {},
   "source": [
    "## Avaliação e comparação"
   ]
  },
  {
   "cell_type": "code",
   "execution_count": 10,
   "metadata": {},
   "outputs": [
    {
     "name": "stdout",
     "output_type": "stream",
     "text": [
      "✅ Resultados de Correlação G-EVAL vs Avaliações Humanas (SummEval):\n"
     ]
    },
    {
     "data": {
      "text/html": [
       "<div>\n",
       "<style scoped>\n",
       "    .dataframe tbody tr th:only-of-type {\n",
       "        vertical-align: middle;\n",
       "    }\n",
       "\n",
       "    .dataframe tbody tr th {\n",
       "        vertical-align: top;\n",
       "    }\n",
       "\n",
       "    .dataframe thead th {\n",
       "        text-align: right;\n",
       "    }\n",
       "</style>\n",
       "<table border=\"1\" class=\"dataframe\">\n",
       "  <thead>\n",
       "    <tr style=\"text-align: right;\">\n",
       "      <th></th>\n",
       "      <th>Critério</th>\n",
       "      <th>Pearson (r)</th>\n",
       "      <th>Spearman (ρ)</th>\n",
       "      <th>Kendall-Tau (τ)</th>\n",
       "    </tr>\n",
       "  </thead>\n",
       "  <tbody>\n",
       "    <tr>\n",
       "      <th>0</th>\n",
       "      <td>Coherence</td>\n",
       "      <td>0.5851</td>\n",
       "      <td>0.5711</td>\n",
       "      <td>0.4626</td>\n",
       "    </tr>\n",
       "    <tr>\n",
       "      <th>1</th>\n",
       "      <td>Consistency</td>\n",
       "      <td>0.5913</td>\n",
       "      <td>0.4993</td>\n",
       "      <td>0.4183</td>\n",
       "    </tr>\n",
       "    <tr>\n",
       "      <th>2</th>\n",
       "      <td>Fluency</td>\n",
       "      <td>0.5924</td>\n",
       "      <td>0.5058</td>\n",
       "      <td>0.4554</td>\n",
       "    </tr>\n",
       "    <tr>\n",
       "      <th>3</th>\n",
       "      <td>Relevance</td>\n",
       "      <td>0.5882</td>\n",
       "      <td>0.5636</td>\n",
       "      <td>0.4529</td>\n",
       "    </tr>\n",
       "  </tbody>\n",
       "</table>\n",
       "</div>"
      ],
      "text/plain": [
       "      Critério  Pearson (r)  Spearman (ρ)  Kendall-Tau (τ)\n",
       "0    Coherence       0.5851        0.5711           0.4626\n",
       "1  Consistency       0.5913        0.4993           0.4183\n",
       "2      Fluency       0.5924        0.5058           0.4554\n",
       "3    Relevance       0.5882        0.5636           0.4529"
      ]
     },
     "metadata": {},
     "output_type": "display_data"
    }
   ],
   "source": [
    "import json\n",
    "import re\n",
    "import pandas as pd\n",
    "from scipy.stats import pearsonr, spearmanr, kendalltau\n",
    "\n",
    "# Função para extrair nota numérica do output do GPT\n",
    "def parse_output(output):\n",
    "    matched = re.search(r\"^\\s*([\\d\\.]+)\", output)\n",
    "    if matched:\n",
    "        try:\n",
    "            return float(matched.group(1))\n",
    "        except:\n",
    "            return 0.0\n",
    "    return 0.0\n",
    "\n",
    "# Função principal de correlação por critério\n",
    "def calculate_meta_eval(path, dimension):\n",
    "    with open(path, \"r\", encoding=\"utf-8\") as f:\n",
    "        data = json.load(f)\n",
    "\n",
    "    pred_scores = {}\n",
    "    human_scores = {}\n",
    "\n",
    "    for item in data:\n",
    "        doc_id = item[\"doc_id\"]\n",
    "        all_responses = item.get(\"all_responses\", [])\n",
    "        model_scores = [parse_output(x) for x in all_responses]\n",
    "        model_avg = sum(model_scores) / len(model_scores) if model_scores else 0\n",
    "\n",
    "        human_score = item.get(\"scores\", {}).get(dimension, None)\n",
    "        if human_score is None:\n",
    "            continue\n",
    "\n",
    "        pred_scores.setdefault(doc_id, []).append(model_avg)\n",
    "        human_scores.setdefault(doc_id, []).append(human_score)\n",
    "\n",
    "    results = {\"Pearson\": 0.0, \"Spearman\": 0.0, \"Kendall-Tau\": 0.0}\n",
    "    d_ctr = 0\n",
    "\n",
    "    for doc_id in pred_scores:\n",
    "        pred = pred_scores[doc_id]\n",
    "        hum = human_scores[doc_id]\n",
    "        if len(set(pred)) <= 1 or len(set(hum)) <= 1:\n",
    "            continue\n",
    "        results[\"Pearson\"] += pearsonr(pred, hum)[0]\n",
    "        results[\"Spearman\"] += spearmanr(pred, hum)[0]\n",
    "        results[\"Kendall-Tau\"] += kendalltau(pred, hum)[0]\n",
    "        d_ctr += 1\n",
    "\n",
    "    if d_ctr > 0:\n",
    "        for k in results:\n",
    "            results[k] = round(results[k] / d_ctr, 4)\n",
    "\n",
    "    return results\n",
    "\n",
    "# Caminhos relativos dos arquivos gerados\n",
    "files = {\n",
    "    \"Coherence\": \"results/gpt4_coh_detailed.json\",\n",
    "    \"Consistency\": \"results/gpt4_con_detailed.json\",\n",
    "    \"Fluency\": \"results/gpt4_flu_detailed.json\",\n",
    "    \"Relevance\": \"results/gpt4_rel_detailed.json\"\n",
    "}\n",
    "\n",
    "# Avaliação e comparação\n",
    "table_results = []\n",
    "for criterion, path in files.items():\n",
    "    res = calculate_meta_eval(path, criterion.lower())\n",
    "    table_results.append({\n",
    "        \"Critério\": criterion,\n",
    "        \"Pearson (r)\": res[\"Pearson\"],\n",
    "        \"Spearman (ρ)\": res[\"Spearman\"],\n",
    "        \"Kendall-Tau (τ)\": res[\"Kendall-Tau\"]\n",
    "    })\n",
    "\n",
    "# Exibir resultados como tabela\n",
    "df = pd.DataFrame(table_results)\n",
    "print(\"✅ Resultados de Correlação G-EVAL vs Avaliações Humanas (SummEval):\")\n",
    "display(df)\n",
    "\n"
   ]
  },
  {
   "cell_type": "markdown",
   "metadata": {},
   "source": [
    "Os resultados indicam que o G-EVAL apresenta correlações moderadas com avaliações humanas em todos os critérios do benchmark SummEval. Em especial, os escores de *Fluency* e *Coherence* apresentam os maiores coeficientes de correlação, indicando que o modelo é particularmente eficaz em avaliar aspectos linguísticos e estruturais do texto.\n",
    "\n",
    "Apesar de pequenas variações nos valores exatos em relação ao artigo original, o padrão geral é preservado, confirmando a robustez do método e a validade desta replicação.\n"
   ]
  },
  {
   "cell_type": "code",
   "execution_count": null,
   "metadata": {},
   "outputs": [
    {
     "data": {
      "image/png": "[encoded data removed]",
      "text/plain": [
       "<Figure size 1000x600 with 1 Axes>"
      ]
     },
     "metadata": {},
     "output_type": "display_data"
    }
   ],
   "source": [
    "import matplotlib.pyplot as plt\n",
    "\n",
    "# Configuração do gráfico\n",
    "plt.figure(figsize=(10, 6))\n",
    "bar_width = 0.25\n",
    "index = range(len(df))\n",
    "\n",
    "# Barras separadas para cada tipo de correlação\n",
    "plt.bar([i - bar_width for i in index], df[\"Pearson (r)\"], bar_width, label=\"Pearson (r)\")\n",
    "plt.bar(index, df[\"Spearman (ρ)\"], bar_width, label=\"Spearman (ρ)\")\n",
    "plt.bar([i + bar_width for i in index], df[\"Kendall-Tau (τ)\"], bar_width, label=\"Kendall-Tau (τ)\")\n",
    "\n",
    "# Rótulos e estilo\n",
    "plt.xlabel(\"Critério\")\n",
    "plt.ylabel(\"Coeficiente de Correlação\")\n",
    "plt.title(\"Correlação entre G-EVAL e Avaliações Humanas por Critério (SummEval)\")\n",
    "plt.xticks(index, df[\"Critério\"])\n",
    "plt.ylim(0, 1)\n",
    "plt.legend()\n",
    "plt.grid(axis='y', linestyle='--', alpha=0.7)\n",
    "\n",
    "plt.tight_layout()\n",
    "plt.show()\n",
    "\n"
   ]
  },
  {
   "cell_type": "markdown",
   "metadata": {},
   "source": [
    "O gráfico acima evidencia que o G-EVAL alcança correlações razoavelmente altas com os julgamentos humanos em todos os critérios do benchmark **SummEval**.\n",
    "\n",
    "A métrica de correlação de **Pearson** apresentou os maiores valores em todos os critérios, refletindo uma forte correspondência linear entre as avaliações geradas pelo GPT-4 e os escores humanos. Já **Spearman** e **Kendall-Tau** revelam correlações monotônicas e ordinais um pouco mais modestas, como esperado.\n",
    "\n",
    "Destaca-se o bom desempenho em *Fluência* e *Relevância*, assim como a robustez do método de replicação em manter os padrões relatados no artigo original.\n"
   ]
  },
  {
   "cell_type": "markdown",
   "metadata": {},
   "source": []
  }
 ],
 "metadata": {
  "kernelspec": {
   "display_name": "Python 3",
   "language": "python",
   "name": "python3"
  },
  "language_info": {
   "codemirror_mode": {
    "name": "ipython",
    "version": 3
   },
   "file_extension": ".py",
   "mimetype": "text/x-python",
   "name": "python",
   "nbconvert_exporter": "python",
   "pygments_lexer": "ipython3",
   "version": "3.11.9"
  }
 },
 "nbformat": 4,
 "nbformat_minor": 2
}
